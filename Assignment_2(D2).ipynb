{
 "cells": [
  {
   "cell_type": "markdown",
   "metadata": {},
   "source": [
    "##### P1\n",
    "You are given an integer N. You need to print the series of all prime numbers till N.\n",
    "\n",
    "Input Format\n",
    "\n",
    "The first and only line of the input contains a single integer N denoting the number till where you need to find the series of prime number.\n",
    "\n",
    "Output Format\n",
    "\n",
    "Print the desired output in single line separated by spaces.\n",
    "\n",
    "Constraints\n",
    "\n",
    "1<=N<=1000\n",
    "\n",
    "\n",
    "SAMPLE INPUT\n",
    "\n",
    "9\n",
    "\n",
    "SAMPLE OUTPUT\n",
    "\n",
    "2 \n",
    "\n",
    "3 \n",
    "\n",
    "5 \n",
    "\n",
    "7"
   ]
  },
  {
   "cell_type": "code",
   "execution_count": 1,
   "metadata": {},
   "outputs": [
    {
     "name": "stdout",
     "output_type": "stream",
     "text": [
      "10\n",
      "2\n",
      "3\n",
      "5\n",
      "7\n"
     ]
    }
   ],
   "source": [
    "# Answer\n",
    "n=int(input())\n",
    "for i in range(1,n):\n",
    "    if i==2:\n",
    "        print (i)\n",
    "        pass\n",
    "    for j in range(2,i):\n",
    "        if i%j==0:\n",
    "            break\n",
    "        if j==i-1:\n",
    "            print(i)"
   ]
  },
  {
   "cell_type": "markdown",
   "metadata": {},
   "source": [
    "## P2\n",
    "\n",
    "### using for loop implement factorial find program\n",
    "\n",
    "### Example: factorial of 5 = 120"
   ]
  },
  {
   "cell_type": "code",
   "execution_count": null,
   "metadata": {},
   "outputs": [],
   "source": [
    "# Answer\n",
    "n=int(input())\n",
    "f=1\n",
    "for i in range(1,n+1):\n",
    "    f=f*i\n",
    "print(f)"
   ]
  },
  {
   "cell_type": "markdown",
   "metadata": {},
   "source": [
    "## P3\n",
    "\n",
    "### Implement Fibonacci finding program"
   ]
  },
  {
   "cell_type": "code",
   "execution_count": 1,
   "metadata": {},
   "outputs": [],
   "source": [
    "# Answer\n",
    "def fib(n):\n",
    "    if n==0 or n==1:\n",
    "        return n\n",
    "    else:\n",
    "        return(fib(n-1)+fib(n-2))\n",
    "n=int(input())\n",
    "fib(n)\n",
    "for i in range(n):\n",
    "    print(fib(i))\n",
    "    "
   ]
  },
  {
   "cell_type": "markdown",
   "metadata": {},
   "source": [
    "## P4\n",
    "\n",
    "### Print a triangle via python"
   ]
  },
  {
   "cell_type": "raw",
   "metadata": {},
   "source": [
    "        * \n",
    "       * * \n",
    "      * * * \n",
    "     * * * * \n",
    "    * * * * * "
   ]
  },
  {
   "cell_type": "code",
   "execution_count": null,
   "metadata": {},
   "outputs": [],
   "source": [
    "n=int(input())\n",
    "for i in range(n):\n",
    "    for j in range(2*n-1):\n",
    "        if j>=4-i:\n",
    "            print(\"*\",end=\" \")\n",
    "        else:\n",
    "            print(end=\" \")\n",
    "        \n",
    "    print()"
   ]
  },
  {
   "cell_type": "markdown",
   "metadata": {},
   "source": [
    "## P5\n",
    "\n",
    "Given an array arr of N integers. Find the contiguous sub-array with maximum sum.\n",
    "\n",
    "Input:\n",
    "The first line of input contains an integer T denoting the number of test cases. The description of T test cases follows. The first line of each test case contains a single integer N denoting the size of array. The second line contains N space-separated integers A1, A2, ..., AN denoting the elements of the array.\n",
    "\n",
    "Output:\n",
    "Print the maximum sum of the contiguous sub-array in a separate line for each test case.\n",
    "\n",
    "Example:\n",
    "Input\n",
    "\n",
    "2\n",
    "\n",
    "5\n",
    "\n",
    "1 2 3 -2 5\n",
    "\n",
    "4\n",
    "\n",
    "-1 -2 -3 -4\n",
    "\n",
    "Output\n",
    "\n",
    "6\n",
    "\n",
    "-1\n",
    "\n",
    "Explanation:\n",
    "Testcase 1: Max subarray sum is 6 of elements (1, 2, 3) which is a contiguous subarray."
   ]
  },
  {
   "cell_type": "code",
   "execution_count": 2,
   "metadata": {},
   "outputs": [],
   "source": [
    "# question 5 asked in many coding interviews like at Amazon,Flipkart,Samsung,Wallmart So try to do it from Yourself\n"
   ]
  },
  {
   "cell_type": "code",
   "execution_count": null,
   "metadata": {},
   "outputs": [],
   "source": [
    "def kadane(arr,n):\n",
    "    max_end=0\n",
    "    max_far=max(arr)\n",
    "    print(\"max_far is\",max_far)\n",
    "    for i in range(n):\n",
    "        max_end=max_end+arr[i]\n",
    "        print(\"max_end is \",+str(max_end))\n",
    "        if max_far<max_end:\n",
    "            max_far=max_end\n",
    "        if max_end<0:\n",
    "            max_end=0\n",
    "    return(max_far)\n",
    "t=int(input(\"enter the length of arr:\"))\n",
    "for i in range(t):\n",
    "    n=int(input())\n",
    "    arr=(int(i) for i in input.split())\n",
    "    print(kadane(arr,n))\n"
   ]
  }
 ],
 "metadata": {
  "kernelspec": {
   "display_name": "Python 3",
   "language": "python",
   "name": "python3"
  },
  "language_info": {
   "codemirror_mode": {
    "name": "ipython",
    "version": 3
   },
   "file_extension": ".py",
   "mimetype": "text/x-python",
   "name": "python",
   "nbconvert_exporter": "python",
   "pygments_lexer": "ipython3",
   "version": "3.7.0"
  }
 },
 "nbformat": 4,
 "nbformat_minor": 2
}
