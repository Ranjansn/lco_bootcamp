{
 "cells": [
  {
   "cell_type": "markdown",
   "metadata": {},
   "source": [
    "REGULAR EXPRESSION"
   ]
  },
  {
   "cell_type": "code",
   "execution_count": 2,
   "metadata": {},
   "outputs": [
    {
     "data": {
      "text/plain": [
       "['cat', 'mat']"
      ]
     },
     "execution_count": 2,
     "metadata": {},
     "output_type": "execute_result"
    }
   ],
   "source": [
    "import re\n",
    "fgt='the cat is hungry and she want to sleep on mat.'\n",
    "#exp\n",
    "exp2='.at'\n",
    "#/d=all numeric digits    here we use\\\n",
    "#/w=all words\n",
    "#/s=all the white spaces\n",
    "#/w=all exclusive words\n",
    "# \\!@#$%^&*()=special characters\n",
    "re.findall(exp2,fgt)"
   ]
  },
  {
   "cell_type": "code",
   "execution_count": 11,
   "metadata": {},
   "outputs": [
    {
     "data": {
      "text/plain": [
       "['67', '123', '89']"
      ]
     },
     "execution_count": 11,
     "metadata": {},
     "output_type": "execute_result"
    }
   ],
   "source": [
    "import re\n",
    "st='hel67lo 123 89'\n",
    "exp='\\d+'\n",
    "re.findall(exp,st)"
   ]
  },
  {
   "cell_type": "code",
   "execution_count": 18,
   "metadata": {},
   "outputs": [
    {
     "data": {
      "text/plain": [
       "['duakv',\n",
       " 'oifgku2347',\n",
       " '889y3',\n",
       " 'u2e',\n",
       " 'whrf3p',\n",
       " '929887y43092',\n",
       " '50498fhw',\n",
       " 'ilugr',\n",
       " '49',\n",
       " '584']"
      ]
     },
     "execution_count": 18,
     "metadata": {},
     "output_type": "execute_result"
    }
   ],
   "source": [
    "s='duakv oifgku2347 889y3 u2e  whrf3p 929887y43092 50498fhw ilugr #&* 49 584'\n",
    "e=('\\d+')\n",
    "ex=('\\w+')\n",
    "re.findall(ex,s)"
   ]
  },
  {
   "cell_type": "code",
   "execution_count": 17,
   "metadata": {},
   "outputs": [
    {
     "data": {
      "text/plain": [
       "['2347', '889', '3', '2', '3', '929887', '43092', '50498', '49', '584']"
      ]
     },
     "execution_count": 17,
     "metadata": {},
     "output_type": "execute_result"
    }
   ],
   "source": [
    "re.findall(e,s)"
   ]
  },
  {
   "cell_type": "code",
   "execution_count": 23,
   "metadata": {},
   "outputs": [
    {
     "data": {
      "text/plain": [
       "['my', 'number', 'is']"
      ]
     },
     "execution_count": 23,
     "metadata": {},
     "output_type": "execute_result"
    }
   ],
   "source": [
    "yu='my number is 3456789978965746'\n",
    "exp3='[A-Za-z]+'\n",
    "re.findall(exp3,yu)"
   ]
  },
  {
   "cell_type": "markdown",
   "metadata": {},
   "source": [
    "PASSWORD STRONG ASSISTANCE\n",
    "for checking capital\n",
    "'[A-Z]'\n",
    "'[A-Z]'"
   ]
  },
  {
   "cell_type": "code",
   "execution_count": 40,
   "metadata": {},
   "outputs": [
    {
     "name": "stdout",
     "output_type": "stream",
     "text": [
      "enter passwordQW\n"
     ]
    },
    {
     "data": {
      "text/plain": [
       "['Q', 'W']"
      ]
     },
     "execution_count": 40,
     "metadata": {},
     "output_type": "execute_result"
    }
   ],
   "source": [
    "i=input('enter password')\n",
    "exp4='[A-Z]'\n",
    "re.findall(exp4,i)"
   ]
  },
  {
   "cell_type": "code",
   "execution_count": 39,
   "metadata": {},
   "outputs": [
    {
     "name": "stdout",
     "output_type": "stream",
     "text": [
      "enter passworddf\n"
     ]
    },
    {
     "data": {
      "text/plain": [
       "[]"
      ]
     },
     "execution_count": 39,
     "metadata": {},
     "output_type": "execute_result"
    }
   ],
   "source": [
    "j=input('enter password')\n",
    "exp5='[a-b]'\n",
    "re.findall(exp5,j)"
   ]
  },
  {
   "cell_type": "code",
   "execution_count": 50,
   "metadata": {},
   "outputs": [
    {
     "name": "stdout",
     "output_type": "stream",
     "text": [
      "enter passwordQWqw12@#\n",
      "[]\n"
     ]
    }
   ],
   "source": [
    "# import re\n",
    "# x=\"(?=.*[a-zA-Z])(?=.*\\d)(?=.*[@#$])[a-zA-Z0-9@#$]{6,12}\"\n",
    "# pas=input('enter password')\n",
    "# o=re.findall(pas,x)\n",
    "# print(o)"
   ]
  },
  {
   "cell_type": "code",
   "execution_count": 51,
   "metadata": {},
   "outputs": [],
   "source": [
    "import re\n",
    "x='(?=.*[a-zA-z])(?=.*\\d)(?=.*[@#$])[a-zA-Z0-9@#$]{6,12}'\n",
    "pas=input('enter password')\n",
    "for i in range(len(pas)):\n",
    "    \n",
    "    \n"
   ]
  },
  {
   "cell_type": "code",
   "execution_count": 52,
   "metadata": {},
   "outputs": [
    {
     "name": "stdout",
     "output_type": "stream",
     "text": [
      "enter passwordhgc\n"
     ]
    }
   ],
   "source": [
    "import re\n",
    "i=input('enter password')\n"
   ]
  },
  {
   "cell_type": "code",
   "execution_count": 56,
   "metadata": {},
   "outputs": [
    {
     "name": "stdout",
     "output_type": "stream",
     "text": [
      "Input your password: QWqw1234\n",
      "Incorrect\n"
     ]
    }
   ],
   "source": [
    "import re\n",
    "i=input(\"Input your password: \")\n",
    "exp=\"(?=.*[a-zA-Z])(?=.*\\d)(?=.*[@#$])[a-zA-Z0-9@#$]{6,12}\"\n",
    "if re.match(exp,i) and len(i)<12:\n",
    "    print(\"Valid Password\")\n",
    "else:\n",
    "    print(\"Incorrect\")\n",
    "    "
   ]
  },
  {
   "cell_type": "code",
   "execution_count": null,
   "metadata": {},
   "outputs": [],
   "source": []
  }
 ],
 "metadata": {
  "kernelspec": {
   "display_name": "Python 3",
   "language": "python",
   "name": "python3"
  },
  "language_info": {
   "codemirror_mode": {
    "name": "ipython",
    "version": 3
   },
   "file_extension": ".py",
   "mimetype": "text/x-python",
   "name": "python",
   "nbconvert_exporter": "python",
   "pygments_lexer": "ipython3",
   "version": "3.7.0"
  }
 },
 "nbformat": 4,
 "nbformat_minor": 2
}
