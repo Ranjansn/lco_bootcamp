{
 "cells": [
  {
   "cell_type": "raw",
   "metadata": {},
   "source": [
    "Find nth Non square no."
   ]
  },
  {
   "cell_type": "code",
   "execution_count": null,
   "metadata": {},
   "outputs": [],
   "source": [
    "import math\n",
    "def nonsquarenumber(n):\n",
    "    ans=n+math.floor(0.5+math.sqrt(n))\n",
    "    return(ans)\n",
    "n=int(input())\n",
    "nonsquarenumber(n)"
   ]
  },
  {
   "cell_type": "raw",
   "metadata": {},
   "source": [
    "Find GCD by Eclid's Algorithm"
   ]
  },
  {
   "cell_type": "code",
   "execution_count": null,
   "metadata": {},
   "outputs": [],
   "source": [
    "def gcd(m,n):\n",
    "    if m<n:\n",
    "        (m,n)=(n,m)\n",
    "    if m%n==0:\n",
    "        return n\n",
    "    else:\n",
    "        return(gcd(n,m%n))\n",
    "m=int(input())\n",
    "n=int(input())\n",
    "gcd(m,n)"
   ]
  },
  {
   "cell_type": "raw",
   "metadata": {},
   "source": [
    "Implement An StopWatch"
   ]
  },
  {
   "cell_type": "code",
   "execution_count": 2,
   "metadata": {},
   "outputs": [
    {
     "name": "stdout",
     "output_type": "stream",
     "text": [
      "Enter the hour:0\n",
      "Enter the minute:0\n",
      "Enter the seconds:10\n",
      "0 0 : 0 0 : 0 0\n",
      "0 0 : 0 0 : 0 1\n",
      "0 0 : 0 0 : 0 2\n",
      "0 0 : 0 0 : 0 3\n",
      "0 0 : 0 0 : 0 4\n",
      "0 0 : 0 0 : 0 5\n",
      "0 0 : 0 0 : 0 6\n",
      "0 0 : 0 0 : 0 7\n",
      "0 0 : 0 0 : 0 8\n",
      "0 0 : 0 0 : 0 9\n",
      "0 0 : 0 0 : 10\n"
     ]
    }
   ],
   "source": [
    "import time\n",
    "h=int(input(\"Enter the hour:\"))\n",
    "m=int(input(\"Enter the minute:\"))\n",
    "s=int(input(\"Enter the seconds:\"))\n",
    "hour=00\n",
    "minutes=00\n",
    "sec=00\n",
    "while True:\n",
    "    if sec<10 and minutes<10 and hour<10:\n",
    "        print(\"0\",str(hour),\":\",\"0\",str(minutes),\":\",\"0\",str(sec))\n",
    "    elif sec>=10 and minutes<10:\n",
    "        print(\"0\",str(hour),\":\",\"0\",str(minutes),\":\",str(sec))\n",
    "    elif sec>=10 and minutes>=10 and hour<10:\n",
    "        print(\"0\",str(hour),\":\",str(minutes),\":\",str(sec))\n",
    "    else:\n",
    "         print(str(hour),\":\",str(minutes),\":\",str(sec))\n",
    "        \n",
    "    sec+=1\n",
    "    if sec==60:\n",
    "        minutes+=1\n",
    "        sec=0\n",
    "    if minutes==60:\n",
    "        minutes=0\n",
    "        hour+=1\n",
    "    if hour==h and minutes==m and sec==s:\n",
    "        if sec<10 and minutes<10 and hour<10:\n",
    "            print(\"0\",str(hour),\":\",\"0\",str(minutes),\":\",\"0\",str(sec))\n",
    "        elif sec>=10 and minutes<10:\n",
    "            print(\"0\",str(hour),\":\",\"0\",str(minutes),\":\",str(sec))\n",
    "        elif sec>=10 and minutes>=10 and hour<10:\n",
    "            print(\"0\",str(hour),\":\",str(minutes),\":\",str(sec))\n",
    "        else:\n",
    "            print(str(hour),\":\",str(minutes),\":\",str(sec))\n",
    "        break\n",
    "    time.sleep(1)"
   ]
  },
  {
   "cell_type": "raw",
   "metadata": {},
   "source": [
    "import time"
   ]
  },
  {
   "cell_type": "code",
   "execution_count": 3,
   "metadata": {},
   "outputs": [
    {
     "name": "stdout",
     "output_type": "stream",
     "text": [
      "1546837640.4379342\n"
     ]
    }
   ],
   "source": [
    "import time\n",
    "print(time.time())"
   ]
  },
  {
   "cell_type": "code",
   "execution_count": null,
   "metadata": {},
   "outputs": [],
   "source": []
  }
 ],
 "metadata": {
  "kernelspec": {
   "display_name": "Python 3",
   "language": "python",
   "name": "python3"
  },
  "language_info": {
   "codemirror_mode": {
    "name": "ipython",
    "version": 3
   },
   "file_extension": ".py",
   "mimetype": "text/x-python",
   "name": "python",
   "nbconvert_exporter": "python",
   "pygments_lexer": "ipython3",
   "version": "3.7.0"
  }
 },
 "nbformat": 4,
 "nbformat_minor": 2
}
