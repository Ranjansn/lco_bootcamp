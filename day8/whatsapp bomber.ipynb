{
 "cells": [
  {
   "cell_type": "code",
   "execution_count": 7,
   "metadata": {},
   "outputs": [],
   "source": [
    "from selenium import webdriver"
   ]
  },
  {
   "cell_type": "code",
   "execution_count": 14,
   "metadata": {},
   "outputs": [
    {
     "name": "stdout",
     "output_type": "stream",
     "text": [
      "Enter the name of user or group: Practise\n",
      "Enter your message: h\n",
      "Enter the count: 5\n",
      "Enter any key after scanning QR codeq\n"
     ]
    }
   ],
   "source": [
    "from selenium import webdriver\n",
    "import os\n",
    "# def banner():\n",
    "# \tprint('''\n",
    "# \t\t  ##              ##  =======     ####       ####    ####     =======\n",
    "# \t\t  \\ \\    ####    / /  #      #  ##    ##    / /\\ \\  / /\\ \\    #      #\n",
    "# \t\t   \\ \\  / /\\ \\  / /   #======   ##    ##   / /  \\ \\/ /  \\ \\   #====== \n",
    "# \t\t    \\ \\/ /  \\ \\/ /    #      #  ##    ##  / /    ####    \\ \\  #      #\n",
    "# \t\t     ####    ####     =======     ####    ##              ##  =======\n",
    "# \t\t''')\n",
    "def main():\n",
    "\tdriver = webdriver.Chrome('./chromedriver')\n",
    "\tdriver.get('https://web.whatsapp.com/')\n",
    "\n",
    "\tname = input('Enter the name of user or group: ')\n",
    "\tmsg = input('Enter your message: ')\n",
    "\tcount = int(input('Enter the count: '))\n",
    "\n",
    "\tinput('Enter any key after scanning QR code')\n",
    "\n",
    "\tuser = driver.find_element_by_xpath('//span[@title = \"{}\"]'.format(name))\n",
    "\tuser.click()\n",
    "\n",
    "\tmsg_box = driver.find_element_by_class_name('_2S1VP')\n",
    "\t\t\n",
    "\tfor i in range(count):\n",
    "\t\tmsg_box.send_keys(msg)\n",
    "\t\tbutton = driver.find_element_by_class_name('_35EW6')\n",
    "\t\tbutton.click() \n",
    "#\tprint('Bombing Complete!!')\n",
    "\n",
    "#banner()\n",
    "main()"
   ]
  },
  {
   "cell_type": "code",
   "execution_count": 13,
   "metadata": {},
   "outputs": [
    {
     "name": "stdout",
     "output_type": "stream",
     "text": [
      "Enter the name of user or group: Practise\n",
      "Enter your message: h\n",
      "Enter the count: 5\n",
      "Enter any key after scanning QR codet\n"
     ]
    }
   ],
   "source": [
    "from selenium import webdriver\n",
    "import os\n",
    "# def banner():\n",
    "# \tprint('''\n",
    "# \t\t  ##              ##  =======     ####       ####    ####     =======\n",
    "# \t\t  \\ \\    ####    / /  #      #  ##    ##    / /\\ \\  / /\\ \\    #      #\n",
    "# \t\t   \\ \\  / /\\ \\  / /   #======   ##    ##   / /  \\ \\/ /  \\ \\   #====== \n",
    "# \t\t    \\ \\/ /  \\ \\/ /    #      #  ##    ##  / /    ####    \\ \\  #      #\n",
    "# \t\t     ####    ####     =======     ####    ##              ##  =======\n",
    "# \t\t''')\n",
    "def main():\n",
    "\tdriver = webdriver.Chrome('./chromedriver')\n",
    "\tdriver.get('https://web.whatsapp.com/')\n",
    "\n",
    "\tname = input('Enter the name of user or group: ')\n",
    "\tmsg = input('Enter your message: ')\n",
    "\tcount = int(input('Enter the count: '))\n",
    "\n",
    "\tinput('Enter any key after scanning QR code')\n",
    "\n",
    "\tuser = driver.find_element_by_xpath('//span[@title = \"Practise\"]')\n",
    "\tuser.click()\n",
    "\n",
    "\tmsg_box = driver.find_element_by_class_name('_2S1VP')\n",
    "\t\t\n",
    "\tfor i in range(count):\n",
    "\t\tmsg_box.send_keys(msg)\n",
    "\t\tbutton = driver.find_element_by_class_name('_35EW6')\n",
    "\t\tbutton.click() \n",
    "#\tprint('Bombing Complete!!')\n",
    "\n",
    "#banner()\n",
    "main()"
   ]
  },
  {
   "cell_type": "code",
   "execution_count": null,
   "metadata": {},
   "outputs": [],
   "source": []
  }
 ],
 "metadata": {
  "kernelspec": {
   "display_name": "Python 3",
   "language": "python",
   "name": "python3"
  },
  "language_info": {
   "codemirror_mode": {
    "name": "ipython",
    "version": 3
   },
   "file_extension": ".py",
   "mimetype": "text/x-python",
   "name": "python",
   "nbconvert_exporter": "python",
   "pygments_lexer": "ipython3",
   "version": "3.7.0"
  }
 },
 "nbformat": 4,
 "nbformat_minor": 2
}
