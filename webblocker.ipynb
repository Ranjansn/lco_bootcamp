{
 "cells": [
  {
   "cell_type": "code",
   "execution_count": 7,
   "metadata": {},
   "outputs": [
    {
     "name": "stdout",
     "output_type": "stream",
     "text": [
      "enter website u want to blockwww.facebook.com\n"
     ]
    }
   ],
   "source": [
    "i=input('enter website u want to block')\n",
    "file = open('/etc/hosts','r')\n",
    "with file:\n",
    "    data = file.readlines()\n",
    "file1 = open('/Users/ranjanchoudhary/Desktop/hotsts','w')\n",
    "with file1:\n",
    "    for i in data:\n",
    "        file1.write(i)"
   ]
  },
  {
   "cell_type": "code",
   "execution_count": null,
   "metadata": {},
   "outputs": [],
   "source": []
  }
 ],
 "metadata": {
  "kernelspec": {
   "display_name": "Python 3",
   "language": "python",
   "name": "python3"
  },
  "language_info": {
   "codemirror_mode": {
    "name": "ipython",
    "version": 3
   },
   "file_extension": ".py",
   "mimetype": "text/x-python",
   "name": "python",
   "nbconvert_exporter": "python",
   "pygments_lexer": "ipython3",
   "version": "3.7.0"
  }
 },
 "nbformat": 4,
 "nbformat_minor": 2
}
