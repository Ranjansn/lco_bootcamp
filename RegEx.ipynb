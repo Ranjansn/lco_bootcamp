{
  "nbformat": 4,
  "nbformat_minor": 0,
  "metadata": {
    "colab": {
      "name": "RegEx.ipynb",
      "version": "0.3.2",
      "provenance": []
    },
    "kernelspec": {
      "display_name": "Python 3",
      "language": "python",
      "name": "python3"
    }
  },
  "cells": [
    {
      "metadata": {
        "id": "GIZRZH65k9Cr",
        "colab_type": "code",
        "colab": {}
      },
      "cell_type": "code",
      "source": [
        "import re"
      ],
      "execution_count": 0,
      "outputs": []
    },
    {
      "metadata": {
        "id": "n_nGg1drk9Cx",
        "colab_type": "code",
        "colab": {}
      },
      "cell_type": "code",
      "source": [
        "c = 'Cookie'"
      ],
      "execution_count": 0,
      "outputs": []
    },
    {
      "metadata": {
        "id": "nMYoC-INk9C0",
        "colab_type": "code",
        "colab": {}
      },
      "cell_type": "code",
      "source": [
        "ex = 'Co.k.e'"
      ],
      "execution_count": 0,
      "outputs": []
    },
    {
      "metadata": {
        "id": "sfiwAUFYk9C5",
        "colab_type": "code",
        "outputId": "b006f969-54fc-4292-ff4e-997182f4cc2e",
        "colab": {
          "base_uri": "https://localhost:8080/",
          "height": 34
        }
      },
      "cell_type": "code",
      "source": [
        "re.findall(ex,c)"
      ],
      "execution_count": 0,
      "outputs": [
        {
          "output_type": "execute_result",
          "data": {
            "text/plain": [
              "['Cookie']"
            ]
          },
          "metadata": {
            "tags": []
          },
          "execution_count": 10
        }
      ]
    },
    {
      "metadata": {
        "id": "2pGLbRutk9DB",
        "colab_type": "code",
        "outputId": "1651263d-3532-4760-a4e3-359cf29a4b6d",
        "colab": {
          "base_uri": "https://localhost:8080/",
          "height": 34
        }
      },
      "cell_type": "code",
      "source": [
        "#\\w - Lowercase w. Matches any single letter, digit or underscore.\n",
        "re.findall('Co\\w*',c)"
      ],
      "execution_count": 0,
      "outputs": [
        {
          "output_type": "execute_result",
          "data": {
            "text/plain": [
              "['Cookie']"
            ]
          },
          "metadata": {
            "tags": []
          },
          "execution_count": 11
        }
      ]
    },
    {
      "metadata": {
        "id": "M79QN6zzk9DG",
        "colab_type": "code",
        "outputId": "6f9a14e3-3fec-4148-db07-8b9d4e1d1ea0",
        "colab": {
          "base_uri": "https://localhost:8080/",
          "height": 34
        }
      },
      "cell_type": "code",
      "source": [
        "re.findall('C[a-z]*',c)"
      ],
      "execution_count": 0,
      "outputs": [
        {
          "output_type": "execute_result",
          "data": {
            "text/plain": [
              "['Cookie']"
            ]
          },
          "metadata": {
            "tags": []
          },
          "execution_count": 12
        }
      ]
    },
    {
      "metadata": {
        "id": "mw61rgplk9DK",
        "colab_type": "code",
        "outputId": "ba3b00bf-73fa-4ad4-980d-9aafaca2a8ed",
        "colab": {
          "base_uri": "https://localhost:8080/",
          "height": 34
        }
      },
      "cell_type": "code",
      "source": [
        "sentence = '''Although Python is an easy to learn and powerful programming language as it is known in common parlance, there is nevertheless need of a good introduction and tutorial on the Python language.\n",
        "\n",
        "Why yet another documentation and tutorial on Python? Aren't there enough websites with tutorials and books dealing with Python? Isn't there already everything said about this great programming language?\n",
        "\n",
        "These were the questions which came to our mind, when we started this website in June 2010. Yes, there are lots of tutorials and introductions, but we wanted to present a different approach, with other - more interesting - examples, better explanatory diagrams and so on. We had a lot to build on, above all the longstanding experience of Bernd Klein as a computer scientist and Python lecturer. Actually, this online course is based on the material from the classroom training courses of Bodenseo and his book on Python'''\n",
        "res=re.search(r'A[a-z]*',sentence)\n",
        "print(res)"
      ],
      "execution_count": 0,
      "outputs": [
        {
          "output_type": "stream",
          "text": [
            "<_sre.SRE_Match object; span=(0, 8), match='Although'>\n"
          ],
          "name": "stdout"
        }
      ]
    },
    {
      "metadata": {
        "id": "rvmk2MP4k9DN",
        "colab_type": "code",
        "outputId": "a4687825-7e2c-4808-b7b2-ba422dde65f9",
        "colab": {
          "base_uri": "https://localhost:8080/",
          "height": 697
        }
      },
      "cell_type": "code",
      "source": [
        "dir(res)\n"
      ],
      "execution_count": 0,
      "outputs": [
        {
          "output_type": "execute_result",
          "data": {
            "text/plain": [
              "['__class__',\n",
              " '__copy__',\n",
              " '__deepcopy__',\n",
              " '__delattr__',\n",
              " '__dir__',\n",
              " '__doc__',\n",
              " '__eq__',\n",
              " '__format__',\n",
              " '__ge__',\n",
              " '__getattribute__',\n",
              " '__getitem__',\n",
              " '__gt__',\n",
              " '__hash__',\n",
              " '__init__',\n",
              " '__init_subclass__',\n",
              " '__le__',\n",
              " '__lt__',\n",
              " '__ne__',\n",
              " '__new__',\n",
              " '__reduce__',\n",
              " '__reduce_ex__',\n",
              " '__repr__',\n",
              " '__setattr__',\n",
              " '__sizeof__',\n",
              " '__str__',\n",
              " '__subclasshook__',\n",
              " 'end',\n",
              " 'endpos',\n",
              " 'expand',\n",
              " 'group',\n",
              " 'groupdict',\n",
              " 'groups',\n",
              " 'lastgroup',\n",
              " 'lastindex',\n",
              " 'pos',\n",
              " 're',\n",
              " 'regs',\n",
              " 'span',\n",
              " 'start',\n",
              " 'string']"
            ]
          },
          "metadata": {
            "tags": []
          },
          "execution_count": 29
        }
      ]
    },
    {
      "metadata": {
        "id": "HGNPNN8fk9DT",
        "colab_type": "code",
        "outputId": "9b224a23-082a-43bc-eaf1-6402fca548ed",
        "colab": {
          "base_uri": "https://localhost:8080/",
          "height": 34
        }
      },
      "cell_type": "code",
      "source": [
        "res.group()\n",
        "#res.re"
      ],
      "execution_count": 0,
      "outputs": [
        {
          "output_type": "execute_result",
          "data": {
            "text/plain": [
              "'Although'"
            ]
          },
          "metadata": {
            "tags": []
          },
          "execution_count": 38
        }
      ]
    },
    {
      "metadata": {
        "id": "VomLxhock9DX",
        "colab_type": "code",
        "outputId": "80d0d516-0c8a-4c3e-a5d2-eab7cfaaa8ae",
        "colab": {
          "base_uri": "https://localhost:8080/",
          "height": 34
        }
      },
      "cell_type": "code",
      "source": [
        "sent2 = '@ Wqh# &dbhw ! & * %'\n",
        "\n",
        "# \\W - Uppercase w. Matches any character not part of \\w (lowercase w).\n",
        "re.findall('\\W[A-Za-z]+\\#',sent2)"
      ],
      "execution_count": 0,
      "outputs": [
        {
          "output_type": "execute_result",
          "data": {
            "text/plain": [
              "[' Wqh#']"
            ]
          },
          "metadata": {
            "tags": []
          },
          "execution_count": 45
        }
      ]
    },
    {
      "metadata": {
        "id": "OQoDASOAk9Dc",
        "colab_type": "code",
        "outputId": "6640c0da-872a-4817-c2d4-44772b47fc3d",
        "colab": {}
      },
      "cell_type": "code",
      "source": [
        "dir(re)"
      ],
      "execution_count": 0,
      "outputs": [
        {
          "output_type": "execute_result",
          "data": {
            "text/plain": [
              "['A',\n",
              " 'ASCII',\n",
              " 'DEBUG',\n",
              " 'DOTALL',\n",
              " 'I',\n",
              " 'IGNORECASE',\n",
              " 'L',\n",
              " 'LOCALE',\n",
              " 'M',\n",
              " 'MULTILINE',\n",
              " 'S',\n",
              " 'Scanner',\n",
              " 'T',\n",
              " 'TEMPLATE',\n",
              " 'U',\n",
              " 'UNICODE',\n",
              " 'VERBOSE',\n",
              " 'X',\n",
              " '_MAXCACHE',\n",
              " '__all__',\n",
              " '__builtins__',\n",
              " '__cached__',\n",
              " '__doc__',\n",
              " '__file__',\n",
              " '__loader__',\n",
              " '__name__',\n",
              " '__package__',\n",
              " '__spec__',\n",
              " '__version__',\n",
              " '_alphanum_bytes',\n",
              " '_alphanum_str',\n",
              " '_cache',\n",
              " '_cache_repl',\n",
              " '_compile',\n",
              " '_compile_repl',\n",
              " '_expand',\n",
              " '_locale',\n",
              " '_pattern_type',\n",
              " '_pickle',\n",
              " '_subx',\n",
              " 'compile',\n",
              " 'copyreg',\n",
              " 'error',\n",
              " 'escape',\n",
              " 'findall',\n",
              " 'finditer',\n",
              " 'fullmatch',\n",
              " 'match',\n",
              " 'purge',\n",
              " 'search',\n",
              " 'split',\n",
              " 'sre_compile',\n",
              " 'sre_parse',\n",
              " 'sub',\n",
              " 'subn',\n",
              " 'sys',\n",
              " 'template']"
            ]
          },
          "metadata": {
            "tags": []
          },
          "execution_count": 57
        }
      ]
    },
    {
      "metadata": {
        "id": "a6yrfY3Uk9Dg",
        "colab_type": "code",
        "colab": {}
      },
      "cell_type": "code",
      "source": [
        "stre=re.findall('\\w+',sentence)"
      ],
      "execution_count": 0,
      "outputs": []
    },
    {
      "metadata": {
        "id": "2aTSFL3ck9Dk",
        "colab_type": "code",
        "colab": {}
      },
      "cell_type": "code",
      "source": [
        "numFind = re.findall('\\d+',sentence)"
      ],
      "execution_count": 0,
      "outputs": []
    },
    {
      "metadata": {
        "id": "veK1pBWHk9Dn",
        "colab_type": "code",
        "outputId": "55ab1850-52c6-49e6-b1eb-f1076c404875",
        "colab": {}
      },
      "cell_type": "code",
      "source": [
        "numFind"
      ],
      "execution_count": 0,
      "outputs": [
        {
          "output_type": "execute_result",
          "data": {
            "text/plain": [
              "['2010']"
            ]
          },
          "metadata": {
            "tags": []
          },
          "execution_count": 65
        }
      ]
    },
    {
      "metadata": {
        "id": "wymG7CjPk9Ds",
        "colab_type": "code",
        "outputId": "223ba978-45b8-4505-de3c-e37f8cec3148",
        "colab": {}
      },
      "cell_type": "code",
      "source": [
        "j = 'p2@P1'\n",
        "re.findall('\\w',j)"
      ],
      "execution_count": 0,
      "outputs": [
        {
          "output_type": "execute_result",
          "data": {
            "text/plain": [
              "['p', '2', 'P', '1']"
            ]
          },
          "metadata": {
            "tags": []
          },
          "execution_count": 68
        }
      ]
    },
    {
      "metadata": {
        "id": "xIVGFAfok9Dw",
        "colab_type": "code",
        "outputId": "e157a19c-bccf-47ab-d156-18b72526e688",
        "colab": {}
      },
      "cell_type": "code",
      "source": [
        "re.findall('\\w+',j)"
      ],
      "execution_count": 0,
      "outputs": [
        {
          "output_type": "execute_result",
          "data": {
            "text/plain": [
              "['p2', 'P1']"
            ]
          },
          "metadata": {
            "tags": []
          },
          "execution_count": 69
        }
      ]
    },
    {
      "metadata": {
        "id": "WytnsphUk9D2",
        "colab_type": "code",
        "outputId": "606ff517-62d0-4d5b-9800-a6e9b8adb8f6",
        "colab": {}
      },
      "cell_type": "code",
      "source": [
        "re.findall('\\d+',j)"
      ],
      "execution_count": 0,
      "outputs": [
        {
          "output_type": "execute_result",
          "data": {
            "text/plain": [
              "['2', '1']"
            ]
          },
          "metadata": {
            "tags": []
          },
          "execution_count": 74
        }
      ]
    },
    {
      "metadata": {
        "id": "bUmAoWKzk9D7",
        "colab_type": "code",
        "outputId": "88060d5c-1848-4185-f88c-ced5b6e82c6b",
        "colab": {}
      },
      "cell_type": "code",
      "source": [
        "re.search('\\w*',sentence)"
      ],
      "execution_count": 0,
      "outputs": [
        {
          "output_type": "execute_result",
          "data": {
            "text/plain": [
              "<_sre.SRE_Match object; span=(0, 8), match='Although'>"
            ]
          },
          "metadata": {
            "tags": []
          },
          "execution_count": 77
        }
      ]
    },
    {
      "metadata": {
        "id": "diM9mirNk9D-",
        "colab_type": "code",
        "colab": {}
      },
      "cell_type": "code",
      "source": [
        "phoneNumRegex = re.compile(r'\\d\\d\\d-\\d\\d\\d-\\d\\d\\d\\d')"
      ],
      "execution_count": 0,
      "outputs": []
    },
    {
      "metadata": {
        "id": "4Y0lq1R6k9EC",
        "colab_type": "code",
        "outputId": "47241de5-87db-40d7-a421-47db18e8d858",
        "colab": {
          "base_uri": "https://localhost:8080/",
          "height": 34
        }
      },
      "cell_type": "code",
      "source": [
        "mo = phoneNumRegex.search('My number is 415-555-4242.')\n",
        "print('Phone number found: ' + mo.group())"
      ],
      "execution_count": 0,
      "outputs": [
        {
          "output_type": "stream",
          "text": [
            "Phone number found: 415-555-4242\n"
          ],
          "name": "stdout"
        }
      ]
    },
    {
      "metadata": {
        "id": "QUmd_6krk9EF",
        "colab_type": "code",
        "colab": {}
      },
      "cell_type": "code",
      "source": [
        "'''Say you want to separate the area code from the rest of the phone number.\n",
        "Adding parentheses will create groups in the regex: (\\d\\d\\d)-(\\d\\d\\d-\\d\\d\\d\\d) .\n",
        "Then you can use the group() match object method to grab the matching\n",
        "text from just one group.'''\n",
        "phoneNumRegex = re.compile(r'(\\d\\d\\d)-(\\d\\d\\d-\\d\\d\\d\\d)')\n",
        "mo = phoneNumRegex.search('My number is 415-555-4242.')"
      ],
      "execution_count": 0,
      "outputs": []
    },
    {
      "metadata": {
        "id": "wK7fKf0Dk9EI",
        "colab_type": "code",
        "outputId": "68a68d71-3e75-4f6c-990d-23e304206ec2",
        "colab": {}
      },
      "cell_type": "code",
      "source": [
        "mo.group()"
      ],
      "execution_count": 0,
      "outputs": [
        {
          "output_type": "execute_result",
          "data": {
            "text/plain": [
              "'415-555-4242'"
            ]
          },
          "metadata": {
            "tags": []
          },
          "execution_count": 82
        }
      ]
    },
    {
      "metadata": {
        "id": "woTj7-6Yk9EM",
        "colab_type": "code",
        "outputId": "b73c40bf-59c5-445a-a807-8299dac8aa39",
        "colab": {}
      },
      "cell_type": "code",
      "source": [
        "mo.group(0)"
      ],
      "execution_count": 0,
      "outputs": [
        {
          "output_type": "execute_result",
          "data": {
            "text/plain": [
              "'415-555-4242'"
            ]
          },
          "metadata": {
            "tags": []
          },
          "execution_count": 83
        }
      ]
    },
    {
      "metadata": {
        "id": "YwbwCBJMk9EQ",
        "colab_type": "code",
        "outputId": "88eadfe1-5a4f-4f19-8b06-100e5e1665f3",
        "colab": {}
      },
      "cell_type": "code",
      "source": [
        "mo.group(1)"
      ],
      "execution_count": 0,
      "outputs": [
        {
          "output_type": "execute_result",
          "data": {
            "text/plain": [
              "'415'"
            ]
          },
          "metadata": {
            "tags": []
          },
          "execution_count": 84
        }
      ]
    },
    {
      "metadata": {
        "id": "vnIgWEMIk9ET",
        "colab_type": "code",
        "outputId": "6cc136b0-3054-41aa-8830-58a8c6126d7b",
        "colab": {}
      },
      "cell_type": "code",
      "source": [
        "mo.group(2)"
      ],
      "execution_count": 0,
      "outputs": [
        {
          "output_type": "execute_result",
          "data": {
            "text/plain": [
              "'555-4242'"
            ]
          },
          "metadata": {
            "tags": []
          },
          "execution_count": 85
        }
      ]
    },
    {
      "metadata": {
        "id": "t9BU7eoNk9EW",
        "colab_type": "code",
        "outputId": "2dd5ced5-130a-48e7-ee8b-9a22efba2e5c",
        "colab": {}
      },
      "cell_type": "code",
      "source": [
        "heroRegex = re.compile (r'Batman|Tina Fey')\n",
        "mo1 = heroRegex.search('Batman and Tina Fey.')\n",
        "mo1.group()"
      ],
      "execution_count": 0,
      "outputs": [
        {
          "output_type": "execute_result",
          "data": {
            "text/plain": [
              "'Batman'"
            ]
          },
          "metadata": {
            "tags": []
          },
          "execution_count": 86
        }
      ]
    },
    {
      "metadata": {
        "id": "w-gjwKl8k9EZ",
        "colab_type": "code",
        "outputId": "2faada8e-69d2-4a6c-c094-57c8c3177384",
        "colab": {}
      },
      "cell_type": "code",
      "source": [
        "mo2 = heroRegex.search('Tina Fey and Batman.')\n",
        "mo2.group()"
      ],
      "execution_count": 0,
      "outputs": [
        {
          "output_type": "execute_result",
          "data": {
            "text/plain": [
              "'Tina Fey'"
            ]
          },
          "metadata": {
            "tags": []
          },
          "execution_count": 87
        }
      ]
    },
    {
      "metadata": {
        "id": "fAwnaNMQk9Ed",
        "colab_type": "code",
        "outputId": "3ac8a54b-ecd0-4021-b0dc-0aacca683b66",
        "colab": {}
      },
      "cell_type": "code",
      "source": [
        "batRegex = re.compile(r'Bat(man|mobile|copter|bat)')\n",
        ">>> mo = batRegex.search('Batmobile lost a wheel')\n",
        ">>> mo.group()"
      ],
      "execution_count": 0,
      "outputs": [
        {
          "output_type": "execute_result",
          "data": {
            "text/plain": [
              "'Batmobile'"
            ]
          },
          "metadata": {
            "tags": []
          },
          "execution_count": 88
        }
      ]
    },
    {
      "metadata": {
        "id": "Smhr8Nk8k9Eh",
        "colab_type": "code",
        "outputId": "0a848f44-d1b8-40d3-cca5-cffcc72755a5",
        "colab": {}
      },
      "cell_type": "code",
      "source": [
        "mo.group(1)"
      ],
      "execution_count": 0,
      "outputs": [
        {
          "output_type": "execute_result",
          "data": {
            "text/plain": [
              "'mobile'"
            ]
          },
          "metadata": {
            "tags": []
          },
          "execution_count": 89
        }
      ]
    },
    {
      "metadata": {
        "id": "6km1zN5Tk9Eo",
        "colab_type": "code",
        "outputId": "5ec81858-e3e3-4e07-c117-a1fad1072a02",
        "colab": {}
      },
      "cell_type": "code",
      "source": [
        "'''Sometimes there is a pattern that you want to match only optionally. That\n",
        "is, the regex should find a match whether or not that bit of text is there.\n",
        "The ? character flags the group that precedes it as an optional part of the\n",
        "pattern. For example, enter the following into the interactive shell:'''\n",
        "batRegex = re.compile(r'Bat(wo)?man')\n",
        "mo1 = batRegex.search('The Adventures of Batman')\n",
        "mo1.group()"
      ],
      "execution_count": 0,
      "outputs": [
        {
          "output_type": "execute_result",
          "data": {
            "text/plain": [
              "'Batman'"
            ]
          },
          "metadata": {
            "tags": []
          },
          "execution_count": 96
        }
      ]
    },
    {
      "metadata": {
        "id": "OweLW1Obk9Eu",
        "colab_type": "code",
        "outputId": "4777658c-7fc9-48af-e1fb-348954af1497",
        "colab": {}
      },
      "cell_type": "code",
      "source": [
        "'''The (wo)? part of the regular expression means that the pattern wo is\n",
        "an optional group. The regex will match text that has zero instances or\n",
        "one instance of wo in it. This is why the regex matches both 'Batwoman' and\n",
        "'Batman' .\n",
        "Using the earlier phone number example, you can make the regex look\n",
        "for phone numbers that do or do not have an area code. Enter the following\n",
        "into the interactive shell:'''\n",
        "mo2 = batRegex.search('The Adventures of Batwoman')\n",
        "mo2.group()"
      ],
      "execution_count": 0,
      "outputs": [
        {
          "output_type": "execute_result",
          "data": {
            "text/plain": [
              "'Batwoman'"
            ]
          },
          "metadata": {
            "tags": []
          },
          "execution_count": 98
        }
      ]
    },
    {
      "metadata": {
        "id": "tO6h-y0tk9Ex",
        "colab_type": "code",
        "outputId": "adb6a51a-ca5d-4806-a618-9b7a761f536e",
        "colab": {
          "base_uri": "https://localhost:8080/",
          "height": 34
        }
      },
      "cell_type": "code",
      "source": [
        "phoneRegex = re.compile(r'(\\d\\d\\d-)\\d\\d\\d-\\d\\d\\d\\d')\n",
        ">>> mo1 = phoneRegex.search('My number is 415-555-4242')\n",
        ">>> mo1.group()"
      ],
      "execution_count": 0,
      "outputs": [
        {
          "output_type": "execute_result",
          "data": {
            "text/plain": [
              "'415-555-4242'"
            ]
          },
          "metadata": {
            "tags": []
          },
          "execution_count": 5
        }
      ]
    },
    {
      "metadata": {
        "id": "8UWKZDA0k9E0",
        "colab_type": "code",
        "outputId": "d27290de-15e9-47e8-ad24-843344588ff1",
        "colab": {}
      },
      "cell_type": "code",
      "source": [
        "mo2 = phoneRegex.search('My number is 555-4242')\n",
        ">>> mo2.group()"
      ],
      "execution_count": 0,
      "outputs": [
        {
          "output_type": "execute_result",
          "data": {
            "text/plain": [
              "'555-4242'"
            ]
          },
          "metadata": {
            "tags": []
          },
          "execution_count": 94
        }
      ]
    },
    {
      "metadata": {
        "id": "L8VYsbWCk9E3",
        "colab_type": "code",
        "outputId": "448c5095-9146-4196-c821-68a0b3b71829",
        "colab": {}
      },
      "cell_type": "code",
      "source": [
        "'''Matching Zero or More with the Star\n",
        "The * (called the star or asterisk) means “match zero or more”—the group\n",
        "that precedes the star can occur any number of times in the text. It can be\n",
        "completely absent or repeated over and over again. Let’s look at the Batman\n",
        "example again.'''\n",
        "batRegex = re.compile(r'Bat(wo)*man')\n",
        "mo1 = batRegex.search('The Adventures of Batman')\n",
        "mo1.group()"
      ],
      "execution_count": 0,
      "outputs": [
        {
          "output_type": "execute_result",
          "data": {
            "text/plain": [
              "'Batman'"
            ]
          },
          "metadata": {
            "tags": []
          },
          "execution_count": 100
        }
      ]
    },
    {
      "metadata": {
        "id": "PAqpQmGAk9E6",
        "colab_type": "code",
        "outputId": "dca657ad-c383-4590-86c8-e829684a35e4",
        "colab": {}
      },
      "cell_type": "code",
      "source": [
        "mo2 = batRegex.search('The Adventures of Batwoman')\n",
        ">>> mo2.group()"
      ],
      "execution_count": 0,
      "outputs": [
        {
          "output_type": "execute_result",
          "data": {
            "text/plain": [
              "'Batwoman'"
            ]
          },
          "metadata": {
            "tags": []
          },
          "execution_count": 101
        }
      ]
    },
    {
      "metadata": {
        "id": "OHZ3sFeck9E_",
        "colab_type": "code",
        "outputId": "119c9de6-54fa-4898-f6dc-f3a2b04607ea",
        "colab": {}
      },
      "cell_type": "code",
      "source": [
        "mo3 = batRegex.search('The Adventures of Batwowowowoman')\n",
        ">>> mo3.group()"
      ],
      "execution_count": 0,
      "outputs": [
        {
          "output_type": "execute_result",
          "data": {
            "text/plain": [
              "'Batwowowowoman'"
            ]
          },
          "metadata": {
            "tags": []
          },
          "execution_count": 102
        }
      ]
    },
    {
      "metadata": {
        "id": "U6Ljr1vQk9FG",
        "colab_type": "code",
        "outputId": "3f131200-478f-4c88-cb27-af5245d4800c",
        "colab": {}
      },
      "cell_type": "code",
      "source": [
        "'''Matching One or More with the Plus\n",
        "While * means “match zero or more,” the + (or plus) means “match one or\n",
        "more.” Unlike the star, which does not require its group to appear in the\n",
        "matched string, the group preceding a plus must appear at least once. It is\n",
        "not optional. Enter the following into the interactive shell, and compare it\n",
        "with the star regexes in the previous section:'''\n",
        "batRegex = re.compile(r'Bat(wo)+man')\n",
        "mo1 = batRegex.search('The Adventures of Batwoman')\n",
        "mo1.group()"
      ],
      "execution_count": 0,
      "outputs": [
        {
          "output_type": "execute_result",
          "data": {
            "text/plain": [
              "'Batwoman'"
            ]
          },
          "metadata": {
            "tags": []
          },
          "execution_count": 103
        }
      ]
    },
    {
      "metadata": {
        "id": "_Ii_rORvk9FT",
        "colab_type": "code",
        "outputId": "7c534b52-2532-460c-a062-33b9e8706158",
        "colab": {}
      },
      "cell_type": "code",
      "source": [
        "mo2 = batRegex.search('The Adventures of Batwowowowoman')\n",
        ">>> mo2.group()\n",
        "'Batwowowowoman'"
      ],
      "execution_count": 0,
      "outputs": [
        {
          "output_type": "execute_result",
          "data": {
            "text/plain": [
              "'Batwowowowoman'"
            ]
          },
          "metadata": {
            "tags": []
          },
          "execution_count": 104
        }
      ]
    },
    {
      "metadata": {
        "id": "dXcS7gYRk9Fa",
        "colab_type": "code",
        "outputId": "32db0878-c1aa-411c-e55b-5bf008e5cc22",
        "colab": {}
      },
      "cell_type": "code",
      "source": [
        "mo3 = batRegex.search('The Adventures of Batman')\n",
        ">>> mo3 == None"
      ],
      "execution_count": 0,
      "outputs": [
        {
          "output_type": "execute_result",
          "data": {
            "text/plain": [
              "True"
            ]
          },
          "metadata": {
            "tags": []
          },
          "execution_count": 105
        }
      ]
    },
    {
      "metadata": {
        "id": "NYmvc_1wk9Ff",
        "colab_type": "raw"
      },
      "cell_type": "markdown",
      "source": [
        "Matching Specific Repetitions with Curly Brackets\n",
        "If you have a group that you want to repeat a specific number of times, fol-\n",
        "low the group in your regex with a number in curly brackets. For example,\n",
        "the regex (Ha){3} will match the string 'HaHaHa' , but it will not match 'HaHa' ,\n",
        "since the latter has only two repeats of the (Ha) group.\n",
        "Instead of one number, you can specify a range by writing a minimum,\n",
        "a comma, and a maximum in between the curly brackets. For example, the\n",
        "regex (Ha){3,5} will match 'HaHaHa' , 'HaHaHaHa' , and 'HaHaHaHaHa' .\n",
        "You can also leave out the first or second number in the curly brackets\n",
        "to leave the minimum or maximum unbounded. For example, (Ha){3,} will\n",
        "match three or more instances of the (Ha) group, while (Ha){,5} will match\n",
        "zero to five instances. Curly brackets can help make your regular expres-\n",
        "sions shorter. These two regular expressions match identical patterns:\n",
        "\n",
        "(Ha){3}\n",
        "(Ha)(Ha)(Ha)\n",
        "And these two regular expressions also match identical patterns:\n",
        "(Ha){3,5}\n",
        "((Ha)(Ha)(Ha))|((Ha)(Ha)(Ha)(Ha))|((Ha)(Ha)(Ha)(Ha)(Ha))"
      ]
    },
    {
      "metadata": {
        "id": "UY7B5C4Sk9Fg",
        "colab_type": "code",
        "outputId": "cb76fa15-dabf-489d-ba88-ca3035498ab5",
        "colab": {}
      },
      "cell_type": "code",
      "source": [
        "haRegex = re.compile(r'(Ha){3}')\n",
        ">>> mo1 = haRegex.search('HaHaHa')\n",
        ">>> mo1.group()"
      ],
      "execution_count": 0,
      "outputs": [
        {
          "output_type": "execute_result",
          "data": {
            "text/plain": [
              "'HaHaHa'"
            ]
          },
          "metadata": {
            "tags": []
          },
          "execution_count": 106
        }
      ]
    },
    {
      "metadata": {
        "id": "vDfxSgp5k9Fm",
        "colab_type": "code",
        "outputId": "f9e85401-eff6-4b5c-b44a-5c9303b8e79b",
        "colab": {}
      },
      "cell_type": "code",
      "source": [
        "mo2 = haRegex.search('Ha')\n",
        ">>> mo2 == None"
      ],
      "execution_count": 0,
      "outputs": [
        {
          "output_type": "execute_result",
          "data": {
            "text/plain": [
              "True"
            ]
          },
          "metadata": {
            "tags": []
          },
          "execution_count": 107
        }
      ]
    },
    {
      "metadata": {
        "id": "pmXCxr12k9Fr",
        "colab_type": "code",
        "outputId": "ebcf4aaa-c606-4d1f-9e09-01f3fb213698",
        "colab": {}
      },
      "cell_type": "code",
      "source": [
        "# Greedy and Nongreedy Matching\n",
        "greedyHaRegex = re.compile(r'(Ha){3,5}')\n",
        "mo1 = greedyHaRegex.search('HaHaHaHaHa')\n",
        "mo1.group()\n",
        "'HaHaHaHaHa'"
      ],
      "execution_count": 0,
      "outputs": [
        {
          "output_type": "execute_result",
          "data": {
            "text/plain": [
              "'HaHaHaHaHa'"
            ]
          },
          "metadata": {
            "tags": []
          },
          "execution_count": 109
        }
      ]
    },
    {
      "metadata": {
        "id": "UUCJ5j6Bk9F4",
        "colab_type": "code",
        "outputId": "44831842-fdf1-44a8-fbbd-4ba8d5402480",
        "colab": {}
      },
      "cell_type": "code",
      "source": [
        "nongreedyHaRegex = re.compile(r'(Ha){3,5}?')\n",
        ">>> mo2 = nongreedyHaRegex.search('HaHaHaHaHa')\n",
        ">>> mo2.group()"
      ],
      "execution_count": 0,
      "outputs": [
        {
          "output_type": "execute_result",
          "data": {
            "text/plain": [
              "'HaHaHa'"
            ]
          },
          "metadata": {
            "tags": []
          },
          "execution_count": 110
        }
      ]
    },
    {
      "metadata": {
        "id": "_GLyoG1Rk9GA",
        "colab_type": "code",
        "outputId": "b72194d1-f09c-44e3-c660-1955b2055d29",
        "colab": {}
      },
      "cell_type": "code",
      "source": [
        "'''In addition to the search() method, Regex objects also have a findall()\n",
        "method. While search() will return a Match object of the first matched text\n",
        "in the searched string, the findall() method will return the strings of every\n",
        "match in the searched string. To see how search() returns a  Match object\n",
        "only on the first instance of matching text, enter the following into the\n",
        "interactive shell'''"
      ],
      "execution_count": 0,
      "outputs": [
        {
          "output_type": "execute_result",
          "data": {
            "text/plain": [
              "'In addition to the search() method, Regex objects also have a findall()\\nmethod. While search() will return a Match object of the first matched text\\nin the searched string, the findall() method will return the strings of every\\nmatch in the searched string. To see how search() returns a  Match object\\nonly on the first instance of matching text, enter the following into the\\ninteractive shell'"
            ]
          },
          "metadata": {
            "tags": []
          },
          "execution_count": 111
        }
      ]
    },
    {
      "metadata": {
        "id": "5UvMIhYmk9GH",
        "colab_type": "code",
        "outputId": "14fc6d87-9ead-4260-e64b-6707bbab42aa",
        "colab": {
          "base_uri": "https://localhost:8080/",
          "height": 34
        }
      },
      "cell_type": "code",
      "source": [
        "phoneNumRegex = re.compile(r'\\d\\d\\d-\\d\\d\\d-\\d\\d\\d\\d')\n",
        ">>> mo = phoneNumRegex.search('Cell: 415-555-9999 Work: 212-555-0000')\n",
        ">>> mo.group()"
      ],
      "execution_count": 0,
      "outputs": [
        {
          "output_type": "execute_result",
          "data": {
            "text/plain": [
              "'415-555-9999'"
            ]
          },
          "metadata": {
            "tags": []
          },
          "execution_count": 9
        }
      ]
    },
    {
      "metadata": {
        "id": "HBuTLeJ4k9GM",
        "colab_type": "code",
        "outputId": "943311eb-91ec-4cf8-90a0-d511279fbfa4",
        "colab": {}
      },
      "cell_type": "code",
      "source": [
        "phoneNumRegex = re.compile(r'\\d\\d\\d-\\d\\d\\d-\\d\\d\\d\\d') # has no groups\n",
        ">>> phoneNumRegex.findall('Cell: 415-555-9999 Work: 212-555-0000')"
      ],
      "execution_count": 0,
      "outputs": [
        {
          "output_type": "execute_result",
          "data": {
            "text/plain": [
              "['415-555-9999', '212-555-0000']"
            ]
          },
          "metadata": {
            "tags": []
          },
          "execution_count": 114
        }
      ]
    },
    {
      "metadata": {
        "id": "zkLxO_Vgk9GU",
        "colab_type": "code",
        "outputId": "b21dac41-d04c-4b9e-d30a-e410df2e5f55",
        "colab": {}
      },
      "cell_type": "code",
      "source": [
        "phoneNumRegex = re.compile(r'(\\d\\d\\d)-(\\d\\d\\d)-(\\d\\d\\d\\d)') # has groups\n",
        ">>> phoneNumRegex.findall('Cell: 415-555-9999 Work: 212-555-0000')"
      ],
      "execution_count": 0,
      "outputs": [
        {
          "output_type": "execute_result",
          "data": {
            "text/plain": [
              "[('415', '555', '9999'), ('212', '555', '0000')]"
            ]
          },
          "metadata": {
            "tags": []
          },
          "execution_count": 115
        }
      ]
    },
    {
      "metadata": {
        "id": "a1fhdDGv0xyy",
        "colab_type": "code",
        "colab": {}
      },
      "cell_type": "code",
      "source": [
        "dt='hi my gmail id is njnitesh82@gmail.com and my friend email is natasha#67@gamil.com'\n",
        "\n",
        "p=re.compile(r'[A-Za-z\\d\\$&+,:;=?@#|<>.-^*()%!]+\\@\\w+\\.\\w+')\n"
      ],
      "execution_count": 0,
      "outputs": []
    },
    {
      "metadata": {
        "id": "C02MToj92a_4",
        "colab_type": "code",
        "outputId": "ab2d4ef1-cb50-4168-b919-e643a6cdb96d",
        "colab": {
          "base_uri": "https://localhost:8080/",
          "height": 34
        }
      },
      "cell_type": "code",
      "source": [
        "p.findall(dt)"
      ],
      "execution_count": 0,
      "outputs": [
        {
          "output_type": "execute_result",
          "data": {
            "text/plain": [
              "['njnitesh82@gmail.com', 'natasha#67@gamil.com']"
            ]
          },
          "metadata": {
            "tags": []
          },
          "execution_count": 55
        }
      ]
    },
    {
      "metadata": {
        "id": "uakUtvkKk9Ga",
        "colab_type": "text"
      },
      "cell_type": "markdown",
      "source": [
        "![](regex.png)"
      ]
    },
    {
      "metadata": {
        "id": "x2_p-V-Dk9Gb",
        "colab_type": "code",
        "outputId": "6cfdba99-157f-4004-c13e-4fa6092c7e85",
        "colab": {}
      },
      "cell_type": "code",
      "source": [
        "xmasRegex = re.compile(r'\\d+\\s\\w+')\n",
        ">>> xmasRegex.findall('12 drummers, 11 pipers, 10 lords, 9 ladies, 8 maids, 7 swans, 6 geese, 5 rings, 4 birds, 3 hens, 2 doves, 1 partridge')"
      ],
      "execution_count": 0,
      "outputs": [
        {
          "output_type": "execute_result",
          "data": {
            "text/plain": [
              "['12 drummers',\n",
              " '11 pipers',\n",
              " '10 lords',\n",
              " '9 ladies',\n",
              " '8 maids',\n",
              " '7 swans',\n",
              " '6 geese',\n",
              " '5 rings',\n",
              " '4 birds',\n",
              " '3 hens',\n",
              " '2 doves',\n",
              " '1 partridge']"
            ]
          },
          "metadata": {
            "tags": []
          },
          "execution_count": 117
        }
      ]
    },
    {
      "metadata": {
        "id": "CtcLLObgk9Gh",
        "colab_type": "raw"
      },
      "cell_type": "markdown",
      "source": [
        "'''Making Your Own Character Classes\n",
        "There are times when you want to match a set of characters but the short-\n",
        "hand character classes ( \\d , \\w , \\s , and so on) are too broad. You can define\n",
        "your own character class using square brackets. For example, the character\n",
        "class [aeiouAEIOU] will match any vowel, both lowercase and uppercase. Enter\n",
        "the following into the interactive shell'''"
      ]
    },
    {
      "metadata": {
        "id": "bF0HD-ENk9Gj",
        "colab_type": "code",
        "outputId": "77fa53c8-638b-48d4-bbc8-9653ae0bdc03",
        "colab": {}
      },
      "cell_type": "code",
      "source": [
        "vowelRegex = re.compile(r'[aeiouAEIOU]')\n",
        ">>> vowelRegex.findall('RoboCop eats baby food. BABY FOOD.')"
      ],
      "execution_count": 0,
      "outputs": [
        {
          "output_type": "execute_result",
          "data": {
            "text/plain": [
              "['o', 'o', 'o', 'e', 'a', 'a', 'o', 'o', 'A', 'O', 'O']"
            ]
          },
          "metadata": {
            "tags": []
          },
          "execution_count": 119
        }
      ]
    },
    {
      "metadata": {
        "id": "7xFBRGEEk9Gm",
        "colab_type": "raw"
      },
      "cell_type": "markdown",
      "source": [
        "'''You can also include ranges of letters or numbers by using a hyphen.\n",
        "For example, the character class [a-zA-Z0-9] will match all lowercase letters,\n",
        "uppercase letters, and numbers.\n",
        "Note that inside the square brackets, the normal regular expression\n",
        "symbols are not interpreted as such. This means you do not need to escape\n",
        "the . , * , ? , or () characters with a preceding backslash. For example, the\n",
        "character class [0-5.] will match digits 0 to 5 and a period. You do not need\n",
        "to write it as [0-5\\.] .\n",
        "By placing a caret character ( ^ ) just after the character class’s opening\n",
        "bracket, you can make a negative character class. A negative character class\n",
        "will match all the characters that are not in the character class. For example,\n",
        "enter the following into the interactive shell:'''"
      ]
    },
    {
      "metadata": {
        "id": "tl9rOrGMk9Go",
        "colab_type": "code",
        "outputId": "231d55cb-a650-4bd2-9c7f-3103d91e1a31",
        "colab": {
          "base_uri": "https://localhost:8080/",
          "height": 408
        }
      },
      "cell_type": "code",
      "source": [
        "consonantRegex = re.compile(r'[^aeiouAEIOU]')\n",
        ">>> consonantRegex.findall('RoboCop eats baby food. BABY FOOD.')"
      ],
      "execution_count": 0,
      "outputs": [
        {
          "output_type": "execute_result",
          "data": {
            "text/plain": [
              "['R',\n",
              " 'b',\n",
              " 'C',\n",
              " 'p',\n",
              " ' ',\n",
              " 't',\n",
              " 's',\n",
              " ' ',\n",
              " 'b',\n",
              " 'b',\n",
              " 'y',\n",
              " ' ',\n",
              " 'f',\n",
              " 'd',\n",
              " '.',\n",
              " ' ',\n",
              " 'B',\n",
              " 'B',\n",
              " 'Y',\n",
              " ' ',\n",
              " 'F',\n",
              " 'D',\n",
              " '.']"
            ]
          },
          "metadata": {
            "tags": []
          },
          "execution_count": 37
        }
      ]
    },
    {
      "metadata": {
        "id": "nnqVhgf8k9G0",
        "colab_type": "code",
        "outputId": "e14cd12e-c0a8-4203-afa1-6f9c4a09cb08",
        "colab": {
          "base_uri": "https://localhost:8080/",
          "height": 34
        }
      },
      "cell_type": "code",
      "source": [
        "beginsWithHello = re.compile(r'^Hello')\n",
        ">>> beginsWithHello.search('Hello world!')"
      ],
      "execution_count": 0,
      "outputs": [
        {
          "output_type": "execute_result",
          "data": {
            "text/plain": [
              "<_sre.SRE_Match object; span=(0, 5), match='Hello'>"
            ]
          },
          "metadata": {
            "tags": []
          },
          "execution_count": 40
        }
      ]
    },
    {
      "metadata": {
        "id": "mefpXYexk9G4",
        "colab_type": "code",
        "outputId": "4ee387c5-10fe-4e95-afd9-8063d2081f69",
        "colab": {}
      },
      "cell_type": "code",
      "source": [
        "beginsWithHello.search('He said hello.') == None"
      ],
      "execution_count": 0,
      "outputs": [
        {
          "output_type": "execute_result",
          "data": {
            "text/plain": [
              "True"
            ]
          },
          "metadata": {
            "tags": []
          },
          "execution_count": 123
        }
      ]
    },
    {
      "metadata": {
        "id": "SpRVMtwfk9G8",
        "colab_type": "code",
        "outputId": "9307715a-5108-4d21-d9f1-035f9523af7d",
        "colab": {
          "base_uri": "https://localhost:8080/",
          "height": 34
        }
      },
      "cell_type": "code",
      "source": [
        "endsWithNumber = re.compile(r'\\d$')\n",
        ">>> endsWithNumber.search('Your number is 42')"
      ],
      "execution_count": 0,
      "outputs": [
        {
          "output_type": "execute_result",
          "data": {
            "text/plain": [
              "<_sre.SRE_Match object; span=(16, 17), match='2'>"
            ]
          },
          "metadata": {
            "tags": []
          },
          "execution_count": 42
        }
      ]
    },
    {
      "metadata": {
        "id": "S4FZkYM2k9G_",
        "colab_type": "code",
        "outputId": "e40b40ad-7204-4a41-dc4f-90e885d87946",
        "colab": {}
      },
      "cell_type": "code",
      "source": [
        "endsWithNumber.search('Your number is forty two.') == None"
      ],
      "execution_count": 0,
      "outputs": [
        {
          "output_type": "execute_result",
          "data": {
            "text/plain": [
              "True"
            ]
          },
          "metadata": {
            "tags": []
          },
          "execution_count": 125
        }
      ]
    },
    {
      "metadata": {
        "id": "AODvimfhk9HF",
        "colab_type": "code",
        "outputId": "dd615da8-82a1-456d-ea90-f9eed14a9e28",
        "colab": {
          "base_uri": "https://localhost:8080/",
          "height": 34
        }
      },
      "cell_type": "code",
      "source": [
        "wholeStringIsNum = re.compile(r'^\\d+$')\n",
        ">>> wholeStringIsNum.search('1234567890')"
      ],
      "execution_count": 0,
      "outputs": [
        {
          "output_type": "execute_result",
          "data": {
            "text/plain": [
              "<_sre.SRE_Match object; span=(0, 10), match='1234567890'>"
            ]
          },
          "metadata": {
            "tags": []
          },
          "execution_count": 45
        }
      ]
    },
    {
      "metadata": {
        "id": "nJrO_KThk9HM",
        "colab_type": "code",
        "colab": {}
      },
      "cell_type": "code",
      "source": [
        "wholeStringIsNum.search('12345xyz67890')"
      ],
      "execution_count": 0,
      "outputs": []
    },
    {
      "metadata": {
        "id": "_dpQkuDek9HO",
        "colab_type": "code",
        "outputId": "7c4b39f1-44a7-43ad-ef92-f4e6cb70c594",
        "colab": {
          "base_uri": "https://localhost:8080/",
          "height": 34
        }
      },
      "cell_type": "code",
      "source": [
        "atRegex = re.compile(r'.at')\n",
        ">>> atRegex.findall('The cat in the hat sat on the flat mat.')"
      ],
      "execution_count": 0,
      "outputs": [
        {
          "output_type": "execute_result",
          "data": {
            "text/plain": [
              "['cat', 'hat', 'sat', 'lat', 'mat']"
            ]
          },
          "metadata": {
            "tags": []
          },
          "execution_count": 48
        }
      ]
    },
    {
      "metadata": {
        "id": "oE_eneyhk9HS",
        "colab_type": "code",
        "outputId": "58e97f7b-732f-456a-8a48-0aa23668aa90",
        "colab": {}
      },
      "cell_type": "code",
      "source": [
        "nameRegex = re.compile(r'First Name: (.*) Last Name: (.*)')\n",
        ">>> mo = nameRegex.search('First Name: Al Last Name: Sweigart')\n",
        ">>> mo.group(1)"
      ],
      "execution_count": 0,
      "outputs": [
        {
          "output_type": "execute_result",
          "data": {
            "text/plain": [
              "'Al'"
            ]
          },
          "metadata": {
            "tags": []
          },
          "execution_count": 130
        }
      ]
    },
    {
      "metadata": {
        "id": "ljaODGy6k9HU",
        "colab_type": "code",
        "outputId": "0e1b8b91-1be7-4a61-c085-03bf539b0a06",
        "colab": {}
      },
      "cell_type": "code",
      "source": [
        "mo.group(2)"
      ],
      "execution_count": 0,
      "outputs": [
        {
          "output_type": "execute_result",
          "data": {
            "text/plain": [
              "'Sweigart'"
            ]
          },
          "metadata": {
            "tags": []
          },
          "execution_count": 131
        }
      ]
    },
    {
      "metadata": {
        "id": "4n2KyYhWk9HZ",
        "colab_type": "code",
        "outputId": "2bc865a0-cf7a-486c-f044-46c1c867b880",
        "colab": {
          "base_uri": "https://localhost:8080/",
          "height": 34
        }
      },
      "cell_type": "code",
      "source": [
        "nongreedyRegex = re.compile(r'<.*?>')\n",
        ">>> mo = nongreedyRegex.search('<To serve man> for dinner.>')\n",
        ">>> mo.group()"
      ],
      "execution_count": 0,
      "outputs": [
        {
          "output_type": "execute_result",
          "data": {
            "text/plain": [
              "'<To serve man>'"
            ]
          },
          "metadata": {
            "tags": []
          },
          "execution_count": 16
        }
      ]
    },
    {
      "metadata": {
        "id": "hieEGvJgk9Hf",
        "colab_type": "code",
        "outputId": "8129cdde-eb44-4a3a-8017-9127e9680867",
        "colab": {}
      },
      "cell_type": "code",
      "source": [
        "greedyRegex = re.compile(r'<.*>')\n",
        ">>> mo = greedyRegex.search('<To serve man> for dinner.>')\n",
        ">>> mo.group()"
      ],
      "execution_count": 0,
      "outputs": [
        {
          "output_type": "execute_result",
          "data": {
            "text/plain": [
              "'<To serve man> for dinner.>'"
            ]
          },
          "metadata": {
            "tags": []
          },
          "execution_count": 133
        }
      ]
    },
    {
      "metadata": {
        "id": "EBVwBjA-k9Hk",
        "colab_type": "code",
        "outputId": "7d4708f9-b29b-4a10-9798-af47acbf5cdf",
        "colab": {
          "base_uri": "https://localhost:8080/",
          "height": 34
        }
      },
      "cell_type": "code",
      "source": [
        "noNewlineRegex = re.compile('.+')\n",
        ">>> noNewlineRegex.search('Serve the public trust.\\nProtect the innocent.\\nUphold the law.').group()"
      ],
      "execution_count": 0,
      "outputs": [
        {
          "output_type": "execute_result",
          "data": {
            "text/plain": [
              "'Serve the public trust.'"
            ]
          },
          "metadata": {
            "tags": []
          },
          "execution_count": 51
        }
      ]
    },
    {
      "metadata": {
        "id": "LrfoKyZEk9Hn",
        "colab_type": "code",
        "outputId": "e10936d3-fc0c-4fc7-a375-92d837d28fb7",
        "colab": {}
      },
      "cell_type": "code",
      "source": [
        "noNewlineRegex = re.compile('.*',re.DOTALL)\n",
        ">>> noNewlineRegex.search('Serve the public trust.\\nProtect the innocent.\\nUphold the law.').group()"
      ],
      "execution_count": 0,
      "outputs": [
        {
          "output_type": "execute_result",
          "data": {
            "text/plain": [
              "'Serve the public trust.\\nProtect the innocent.\\nUphold the law.'"
            ]
          },
          "metadata": {
            "tags": []
          },
          "execution_count": 137
        }
      ]
    },
    {
      "metadata": {
        "id": "_Hk3Mt0uk9Hp",
        "colab_type": "code",
        "colab": {}
      },
      "cell_type": "code",
      "source": [
        ""
      ],
      "execution_count": 0,
      "outputs": []
    }
  ]
}