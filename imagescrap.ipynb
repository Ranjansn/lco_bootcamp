{
 "cells": [
  {
   "cell_type": "code",
   "execution_count": 69,
   "metadata": {},
   "outputs": [
    {
     "name": "stdout",
     "output_type": "stream",
     "text": [
      "input yr linkhttps://www.amazon.in\n",
      "image link: 1\n",
      "https://images-eu.ssl-images-amazon.com/images/G/31/gno/sprites/nav-sprite-global_bluebeacon-V3-1x_optimized._CB516557522_.png\n",
      "image link: 2\n",
      "https://images-eu.ssl-images-amazon.com/images/G/31/x-locale/common/transparent-pixel._CB386942716_.gif\n",
      "image link: 3\n",
      "https://images-eu.ssl-images-amazon.com/images/G/31/img18/Wireless/CEEX/RMU1/Yo_Days/Merch/Updated_GW/D8610599_BAU_Realme_U1_SBI_offer_Yo_Days_DesktopTallHero_1500x600._CB459079826_.jpg\n",
      "image link: 4\n",
      "https://images-eu.ssl-images-amazon.com/images/G/31/img18/AmazonPay/LPA/December/food_260x260._CB460873713_SY260_.jpg\n",
      "image link: 5\n",
      "https://images-eu.ssl-images-amazon.com/images/G/31/img18/AmazonPay/Recharges/August/1134987_260x260._CB470673279_SY260_.jpg\n",
      "image link: 6\n",
      "https://images-eu.ssl-images-amazon.com/images/G/31/img17/AmazonDevices/Neel/Aug/260x260_Family._CB483990630_SY260_.jpg\n",
      "image link: 7\n",
      "https://images-eu.ssl-images-amazon.com/images/G/31/img17/AmazonPay/Ankit/bau/emifest/sbi/SBI_Desktop_card_260x260._CB459157903_SY260_.jpg\n",
      "image link: 8\n",
      "https://images-eu.ssl-images-amazon.com/images/G/31/img17/AmazonPay/NocostEMI/DebitCards/PCCard/NCE_143_Desktop-Category-Card_260._CB485296061_SY260_.jpg\n",
      "image link: 9\n",
      "https://images-eu.ssl-images-amazon.com/images/G/31/img18/AmazonDevices/Tank/DC_260x260_opt2._CB480140236_SY260_.jpg\n",
      "image link: 10\n",
      "https://images-eu.ssl-images-amazon.com/images/G/31/img18/AmazonDevices/kindle/launch_260X260._CB481777578_SY260_.jpg\n",
      "image link: 11\n",
      "https://images-eu.ssl-images-amazon.com/images/G/31/img17/AmazonPay/Ankit/bau/dekstopgrid/NC_EMI_Desktop_card_260x260_v1._CB459971626_SY260_.jpg\n",
      "image link: 12\n",
      "https://images-na.ssl-images-amazon.com/images/I/31Rx3z7Yf3L.__AC_SY200_.jpg\n",
      "image link: 13\n",
      "https://images-na.ssl-images-amazon.com/images/I/31RBrkv8i%2BL.__AC_SY200_.jpg\n",
      "image link: 14\n",
      "https://images-na.ssl-images-amazon.com/images/I/51BNnr7d0FL.__AC_SY200_.jpg\n",
      "image link: 15\n",
      "https://images-na.ssl-images-amazon.com/images/I/31XWflMis5L.__AC_SY200_.jpg\n",
      "image link: 16\n",
      "https://images-na.ssl-images-amazon.com/images/I/41lPPHSCOCL.__AC_SY200_.jpg\n",
      "image link: 17\n",
      "https://images-na.ssl-images-amazon.com/images/I/41GhNKaJQIL.__AC_SY200_.jpg\n",
      "image link: 18\n",
      "https://images-na.ssl-images-amazon.com/images/I/41b5uVZMgVL.__AC_SY200_.jpg\n",
      "image link: 19\n",
      "https://images-eu.ssl-images-amazon.com/images/G/31/amazonui/loading/loading-4x._CB398267825_.gif\n",
      "image link: 20\n",
      "https://images-eu.ssl-images-amazon.com/images/I/810xGTMSBRL._AC_SY200_.jpg\n",
      "image link: 21\n",
      "https://images-eu.ssl-images-amazon.com/images/I/91zmKIwfpzL._AC_SY200_.jpg\n",
      "image link: 22\n",
      "https://images-eu.ssl-images-amazon.com/images/I/61gGlI9GmML._AC_SY200_.jpg\n",
      "image link: 23\n",
      "https://images-eu.ssl-images-amazon.com/images/I/71pXP1UQ7NL._AC_SY200_.jpg\n",
      "image link: 24\n",
      "https://images-eu.ssl-images-amazon.com/images/I/91jXsnmucSL._AC_SY200_.jpg\n",
      "image link: 25\n",
      "https://images-eu.ssl-images-amazon.com/images/I/518k7xL+RAL._AC_SY200_.jpg\n",
      "image link: 26\n",
      "https://images-eu.ssl-images-amazon.com/images/I/61YxO6NNh8L._AC_SY200_.jpg\n",
      "image link: 27\n",
      "https://images-eu.ssl-images-amazon.com/images/G/31/img18/apparel/GW/WRS_Dec2018/MA/4-440._CB459805324_.jpg\n",
      "image link: 28\n",
      "https://images-eu.ssl-images-amazon.com/images/G/31/img18/apparel/KA/Events/WRS-Dec/GW/PC-billboard/440x200womens._CB459617202_.jpg\n",
      "image link: 29\n",
      "https://images-eu.ssl-images-amazon.com/images/I/81zR2MkdLfL._AC_SY200_.jpg\n",
      "image link: 30\n",
      "https://images-eu.ssl-images-amazon.com/images/I/81l9+b-PzpL._AC_SY200_.jpg\n",
      "image link: 31\n",
      "https://images-eu.ssl-images-amazon.com/images/I/81wBVFPh1oL._AC_SY200_.jpg\n",
      "image link: 32\n",
      "https://images-eu.ssl-images-amazon.com/images/I/81KvdQhsxQL._AC_SY200_.jpg\n",
      "image link: 33\n",
      "https://images-eu.ssl-images-amazon.com/images/I/61gI1si-WiL._AC_SY200_.jpg\n",
      "image link: 34\n",
      "https://images-eu.ssl-images-amazon.com/images/I/81buKzHr8YL._AC_SY200_.jpg\n",
      "image link: 35\n",
      "https://images-eu.ssl-images-amazon.com/images/I/81hvc2RHfWL._AC_SY200_.jpg\n",
      "image link: 36\n",
      "https://images-eu.ssl-images-amazon.com/images/I/61SXoE+h9xL._AC_SY200_.jpg\n",
      "image link: 37\n",
      "https://images-eu.ssl-images-amazon.com/images/I/719sq10x0fL._AC_SY200_.jpg\n",
      "image link: 38\n",
      "https://images-eu.ssl-images-amazon.com/images/I/81xztOTh-VL._AC_SY200_.jpg\n",
      "image link: 39\n",
      "https://images-eu.ssl-images-amazon.com/images/I/61cjroGTurL._AC_SY200_.jpg\n",
      "image link: 40\n",
      "https://images-eu.ssl-images-amazon.com/images/I/71ySuOlYjdL._AC_SY200_.jpg\n",
      "image link: 41\n",
      "https://images-eu.ssl-images-amazon.com/images/I/719XNkIMHqL._AC_SY200_.jpg\n",
      "image link: 42\n",
      "https://images-eu.ssl-images-amazon.com/images/I/81a6Fmlr9VL._AC_SY200_.jpg\n",
      "image link: 43\n",
      "https://images-eu.ssl-images-amazon.com/images/G/31/Symbol/BB/Winter2._UX440_SX440_CB461112131_.png\n",
      "image link: 44\n",
      "https://images-eu.ssl-images-amazon.com/images/G/31/Content/GW/Grid25BB/phones_15-20k._UX440_SX440_CB459832339_.jpg\n",
      "image link: 45\n",
      "https://images-eu.ssl-images-amazon.com/images/I/71hJM44W6LL._AC_SY200_.jpg\n",
      "image link: 46\n",
      "https://images-eu.ssl-images-amazon.com/images/I/61xCGHBYPaL._AC_SY200_.jpg\n",
      "image link: 47\n",
      "https://images-eu.ssl-images-amazon.com/images/I/71G1XO3jZ-L._AC_SY200_.jpg\n",
      "image link: 48\n",
      "https://images-eu.ssl-images-amazon.com/images/I/91Dh3ec3EFL._AC_SY200_.jpg\n",
      "image link: 49\n",
      "https://images-eu.ssl-images-amazon.com/images/I/813W4jjRuiL._AC_SY200_.jpg\n",
      "image link: 50\n",
      "https://images-eu.ssl-images-amazon.com/images/I/71lK7+bDFrL._AC_SY200_.jpg\n",
      "image link: 51\n",
      "https://images-eu.ssl-images-amazon.com/images/I/51EfDWKl24L._AC_SY200_.jpg\n",
      "image link: 52\n",
      "https://images-eu.ssl-images-amazon.com/images/I/91Eq3aR-tPL._AC_SY200_.jpg\n",
      "image link: 53\n",
      "https://images-eu.ssl-images-amazon.com/images/I/81BosCxOwxL._AC_SY200_.jpg\n",
      "image link: 54\n",
      "https://images-eu.ssl-images-amazon.com/images/I/914+9bCPuPL._AC_SY200_.jpg\n",
      "image link: 55\n",
      "https://images-eu.ssl-images-amazon.com/images/I/61eWhYWdSiL._AC_SY200_.jpg\n",
      "image link: 56\n",
      "https://images-eu.ssl-images-amazon.com/images/I/91Eq3aR-tPL._AC_SY200_.jpg\n",
      "image link: 57\n",
      "https://images-eu.ssl-images-amazon.com/images/I/914+9bCPuPL._AC_SY200_.jpg\n",
      "image link: 58\n",
      "https://images-eu.ssl-images-amazon.com/images/I/81OSER3pspL._AC_SY200_.jpg\n",
      "image link: 59\n",
      "https://images-eu.ssl-images-amazon.com/images/G/31/Content/GW/Grid25BB/Nokia_3.1_Plus._UX440_SX440_CB459832339_.jpg\n",
      "image link: 60\n",
      "https://images-eu.ssl-images-amazon.com/images/G/31/img17/Home/ART/May/anirbd_2017-05-05T11-28_93e650_boxes-baskets-and-bins._UX440_SX440_CB509752914_.jpg\n",
      "image link: 61\n",
      "https://images-eu.ssl-images-amazon.com/images/I/81kn500ygmL._AC_SY200_.jpg\n",
      "image link: 62\n",
      "https://images-eu.ssl-images-amazon.com/images/I/8122ILxCC9L._AC_SY200_.jpg\n",
      "image link: 63\n",
      "https://images-eu.ssl-images-amazon.com/images/I/81wnTk92XIL._AC_SY200_.jpg\n",
      "image link: 64\n",
      "https://images-eu.ssl-images-amazon.com/images/I/81gc8mE59zL._AC_SY200_.jpg\n",
      "image link: 65\n",
      "https://images-eu.ssl-images-amazon.com/images/I/819CRu3jl7L._AC_SY200_.jpg\n",
      "image link: 66\n",
      "https://images-eu.ssl-images-amazon.com/images/I/41ODN34asHL._AC_SY200_.jpg\n",
      "image link: 67\n",
      "https://images-eu.ssl-images-amazon.com/images/I/819CRu3jl7L._AC_SY200_.jpg\n"
     ]
    }
   ],
   "source": [
    "#web image scrapper\n",
    "import requests\n",
    "from bs4 import*\n",
    "from PIL import Image\n",
    "import matplotlib.pyplot as plt\n",
    "# import matplotib.pyplot as plt\n",
    "link=input('input yr link')\n",
    "req=requests.get(link)\n",
    "soup=BeautifulSoup(req.text,'lxml')\n",
    "imgs=soup.find_all('img')\n",
    "k=1\n",
    "for i in imgs:\n",
    "    try:\n",
    "        url=i['src']\n",
    "        print('image link:',k)\n",
    "        print(url)\n",
    "        response=requests.get(url,stream=True)\n",
    "        img=Image.open(response.raw)\n",
    "        plt.imshow(img)\n",
    "        plt.close()\n",
    "        img.save('/Macintosh HD⁩/Users⁩⁨/ranjanchoudhary⁩/Desktop⁩/scrap/'+str(k)+'.jpg')\n",
    "    except:\n",
    "        KeyError\n",
    "    k+=1"
   ]
  },
  {
   "cell_type": "code",
   "execution_count": 36,
   "metadata": {},
   "outputs": [
    {
     "name": "stdout",
     "output_type": "stream",
     "text": [
      "<img alt=\"\" src=\"https://images-eu.ssl-images-amazon.com/images/G/31/gno/sprites/nav-sprite-global_bluebeacon-V3-1x_optimized._CB516557522_.png\" style=\"display:none\"/>\n"
     ]
    }
   ],
   "source": [
    "print(imgs[0])"
   ]
  },
  {
   "cell_type": "code",
   "execution_count": 58,
   "metadata": {},
   "outputs": [
    {
     "data": {
      "text/plain": [
       "'https://images-eu.ssl-images-amazon.com/images/G/31/gno/sprites/nav-sprite-global_bluebeacon-V3-1x_optimized._CB516557522_.png'"
      ]
     },
     "execution_count": 58,
     "metadata": {},
     "output_type": "execute_result"
    }
   ],
   "source": [
    "imgs[0]['src']"
   ]
  },
  {
   "cell_type": "code",
   "execution_count": 59,
   "metadata": {},
   "outputs": [],
   "source": [
    "res=requests.get(imgs[0]['src'],stream=True)"
   ]
  },
  {
   "cell_type": "code",
   "execution_count": 53,
   "metadata": {},
   "outputs": [
    {
     "data": {
      "text/plain": [
       "['__attrs__',\n",
       " '__bool__',\n",
       " '__class__',\n",
       " '__delattr__',\n",
       " '__dict__',\n",
       " '__dir__',\n",
       " '__doc__',\n",
       " '__enter__',\n",
       " '__eq__',\n",
       " '__exit__',\n",
       " '__format__',\n",
       " '__ge__',\n",
       " '__getattribute__',\n",
       " '__getstate__',\n",
       " '__gt__',\n",
       " '__hash__',\n",
       " '__init__',\n",
       " '__init_subclass__',\n",
       " '__iter__',\n",
       " '__le__',\n",
       " '__lt__',\n",
       " '__module__',\n",
       " '__ne__',\n",
       " '__new__',\n",
       " '__nonzero__',\n",
       " '__reduce__',\n",
       " '__reduce_ex__',\n",
       " '__repr__',\n",
       " '__setattr__',\n",
       " '__setstate__',\n",
       " '__sizeof__',\n",
       " '__str__',\n",
       " '__subclasshook__',\n",
       " '__weakref__',\n",
       " '_content',\n",
       " '_content_consumed',\n",
       " '_next',\n",
       " 'apparent_encoding',\n",
       " 'close',\n",
       " 'connection',\n",
       " 'content',\n",
       " 'cookies',\n",
       " 'elapsed',\n",
       " 'encoding',\n",
       " 'headers',\n",
       " 'history',\n",
       " 'is_permanent_redirect',\n",
       " 'is_redirect',\n",
       " 'iter_content',\n",
       " 'iter_lines',\n",
       " 'json',\n",
       " 'links',\n",
       " 'next',\n",
       " 'ok',\n",
       " 'raise_for_status',\n",
       " 'raw',\n",
       " 'reason',\n",
       " 'request',\n",
       " 'status_code',\n",
       " 'text',\n",
       " 'url']"
      ]
     },
     "execution_count": 53,
     "metadata": {},
     "output_type": "execute_result"
    }
   ],
   "source": [
    "dir(res)"
   ]
  },
  {
   "cell_type": "code",
   "execution_count": 61,
   "metadata": {},
   "outputs": [
    {
     "ename": "OSError",
     "evalue": "cannot identify image file <_io.BytesIO object at 0x10df98048>",
     "output_type": "error",
     "traceback": [
      "\u001b[0;31m---------------------------------------------------------------------------\u001b[0m",
      "\u001b[0;31mOSError\u001b[0m                                   Traceback (most recent call last)",
      "\u001b[0;32m<ipython-input-61-bae769d767cd>\u001b[0m in \u001b[0;36m<module>\u001b[0;34m\u001b[0m\n\u001b[0;32m----> 1\u001b[0;31m \u001b[0mui\u001b[0m\u001b[0;34m=\u001b[0m\u001b[0mImage\u001b[0m\u001b[0;34m.\u001b[0m\u001b[0mopen\u001b[0m\u001b[0;34m(\u001b[0m\u001b[0mres\u001b[0m\u001b[0;34m.\u001b[0m\u001b[0mraw\u001b[0m\u001b[0;34m)\u001b[0m\u001b[0;34m\u001b[0m\u001b[0m\n\u001b[0m\u001b[1;32m      2\u001b[0m \u001b[0mui\u001b[0m\u001b[0;34m.\u001b[0m\u001b[0msave\u001b[0m\u001b[0;34m(\u001b[0m\u001b[0;34m\"/test1.jpg\"\u001b[0m\u001b[0;34m)\u001b[0m\u001b[0;34m\u001b[0m\u001b[0m\n",
      "\u001b[0;32m/anaconda3/lib/python3.7/site-packages/PIL/Image.py\u001b[0m in \u001b[0;36mopen\u001b[0;34m(fp, mode)\u001b[0m\n\u001b[1;32m   2655\u001b[0m         \u001b[0mwarnings\u001b[0m\u001b[0;34m.\u001b[0m\u001b[0mwarn\u001b[0m\u001b[0;34m(\u001b[0m\u001b[0mmessage\u001b[0m\u001b[0;34m)\u001b[0m\u001b[0;34m\u001b[0m\u001b[0m\n\u001b[1;32m   2656\u001b[0m     raise IOError(\"cannot identify image file %r\"\n\u001b[0;32m-> 2657\u001b[0;31m                   % (filename if filename else fp))\n\u001b[0m\u001b[1;32m   2658\u001b[0m \u001b[0;34m\u001b[0m\u001b[0m\n\u001b[1;32m   2659\u001b[0m \u001b[0;31m#\u001b[0m\u001b[0;34m\u001b[0m\u001b[0;34m\u001b[0m\u001b[0m\n",
      "\u001b[0;31mOSError\u001b[0m: cannot identify image file <_io.BytesIO object at 0x10df98048>"
     ]
    }
   ],
   "source": [
    "ui=Image.open(res.raw)\n",
    "ui.save(\"/test1.jpg\")"
   ]
  },
  {
   "cell_type": "code",
   "execution_count": null,
   "metadata": {},
   "outputs": [],
   "source": [
    "plt.imshow(ui)"
   ]
  },
  {
   "cell_type": "code",
   "execution_count": 47,
   "metadata": {},
   "outputs": [
    {
     "name": "stdout",
     "output_type": "stream",
     "text": [
      "/Users/ranjanchoudhary/bootcamp\r\n"
     ]
    }
   ],
   "source": [
    "!pwd\n"
   ]
  },
  {
   "cell_type": "code",
   "execution_count": 48,
   "metadata": {},
   "outputs": [
    {
     "name": "stdout",
     "output_type": "stream",
     "text": [
      "Untitled.ipynb   day1.ipynb       day4.ipynb       test.jpg\r\n",
      "amazon.ipynb     day2.ipynb       imagescrap.ipynb\r\n"
     ]
    }
   ],
   "source": [
    "!ls"
   ]
  },
  {
   "cell_type": "code",
   "execution_count": 49,
   "metadata": {},
   "outputs": [],
   "source": [
    "!cat test.jpg\n"
   ]
  },
  {
   "cell_type": "code",
   "execution_count": 68,
   "metadata": {},
   "outputs": [
    {
     "ename": "FileNotFoundError",
     "evalue": "[Errno 2] No such file or directory: '/Macintosh HD\\u2069/Users\\u2069\\u2068/ranjanchoudhary\\u2069/downloads/Unknown'",
     "output_type": "error",
     "traceback": [
      "\u001b[0;31m---------------------------------------------------------------------------\u001b[0m",
      "\u001b[0;31mFileNotFoundError\u001b[0m                         Traceback (most recent call last)",
      "\u001b[0;32m<ipython-input-68-dfd45ef5bd77>\u001b[0m in \u001b[0;36m<module>\u001b[0;34m\u001b[0m\n\u001b[1;32m      1\u001b[0m \u001b[0;31m# This portion is part of my test code\u001b[0m\u001b[0;34m\u001b[0m\u001b[0;34m\u001b[0m\u001b[0m\n\u001b[1;32m      2\u001b[0m \u001b[0mbyteImgIO\u001b[0m \u001b[0;34m=\u001b[0m \u001b[0mio\u001b[0m\u001b[0;34m.\u001b[0m\u001b[0mBytesIO\u001b[0m\u001b[0;34m(\u001b[0m\u001b[0;34m)\u001b[0m\u001b[0;34m\u001b[0m\u001b[0m\n\u001b[0;32m----> 3\u001b[0;31m \u001b[0mbyteImg\u001b[0m \u001b[0;34m=\u001b[0m \u001b[0mImage\u001b[0m\u001b[0;34m.\u001b[0m\u001b[0mopen\u001b[0m\u001b[0;34m(\u001b[0m\u001b[0;34m\"/Macintosh HD⁩/Users⁩⁨/ranjanchoudhary⁩/downloads/Unknown\"\u001b[0m\u001b[0;34m)\u001b[0m\u001b[0;34m\u001b[0m\u001b[0m\n\u001b[0m\u001b[1;32m      4\u001b[0m \u001b[0mbyteImg\u001b[0m\u001b[0;34m.\u001b[0m\u001b[0msave\u001b[0m\u001b[0;34m(\u001b[0m\u001b[0mbyteImgIO\u001b[0m\u001b[0;34m,\u001b[0m \u001b[0;34m\"PNG\"\u001b[0m\u001b[0;34m)\u001b[0m\u001b[0;34m\u001b[0m\u001b[0m\n\u001b[1;32m      5\u001b[0m \u001b[0mbyteImgIO\u001b[0m\u001b[0;34m.\u001b[0m\u001b[0mseek\u001b[0m\u001b[0;34m(\u001b[0m\u001b[0;36m0\u001b[0m\u001b[0;34m)\u001b[0m\u001b[0;34m\u001b[0m\u001b[0m\n",
      "\u001b[0;32m/anaconda3/lib/python3.7/site-packages/PIL/Image.py\u001b[0m in \u001b[0;36mopen\u001b[0;34m(fp, mode)\u001b[0m\n\u001b[1;32m   2607\u001b[0m \u001b[0;34m\u001b[0m\u001b[0m\n\u001b[1;32m   2608\u001b[0m     \u001b[0;32mif\u001b[0m \u001b[0mfilename\u001b[0m\u001b[0;34m:\u001b[0m\u001b[0;34m\u001b[0m\u001b[0m\n\u001b[0;32m-> 2609\u001b[0;31m         \u001b[0mfp\u001b[0m \u001b[0;34m=\u001b[0m \u001b[0mbuiltins\u001b[0m\u001b[0;34m.\u001b[0m\u001b[0mopen\u001b[0m\u001b[0;34m(\u001b[0m\u001b[0mfilename\u001b[0m\u001b[0;34m,\u001b[0m \u001b[0;34m\"rb\"\u001b[0m\u001b[0;34m)\u001b[0m\u001b[0;34m\u001b[0m\u001b[0m\n\u001b[0m\u001b[1;32m   2610\u001b[0m         \u001b[0mexclusive_fp\u001b[0m \u001b[0;34m=\u001b[0m \u001b[0;32mTrue\u001b[0m\u001b[0;34m\u001b[0m\u001b[0m\n\u001b[1;32m   2611\u001b[0m \u001b[0;34m\u001b[0m\u001b[0m\n",
      "\u001b[0;31mFileNotFoundError\u001b[0m: [Errno 2] No such file or directory: '/Macintosh HD\\u2069/Users\\u2069\\u2068/ranjanchoudhary\\u2069/downloads/Unknown'"
     ]
    }
   ],
   "source": [
    "# This portion is part of my test code\n",
    "byteImgIO = io.BytesIO()\n",
    "byteImg = Image.open(\"/Macintosh HD⁩/Users⁩⁨/ranjanchoudhary⁩/downloads/Unknown\")\n",
    "byteImg.save(byteImgIO, \"PNG\")\n",
    "byteImgIO.seek(0)\n",
    "byteImg = byteImgIO.read()\n",
    "\n",
    "\n",
    "# Non test code\n",
    "dataBytesIO = io.BytesIO(byteImg)\n",
    "Image.open(dataBytesIO)"
   ]
  },
  {
   "cell_type": "code",
   "execution_count": 64,
   "metadata": {},
   "outputs": [],
   "source": [
    "import io"
   ]
  },
  {
   "cell_type": "code",
   "execution_count": null,
   "metadata": {},
   "outputs": [],
   "source": []
  }
 ],
 "metadata": {
  "kernelspec": {
   "display_name": "Python 3",
   "language": "python",
   "name": "python3"
  },
  "language_info": {
   "codemirror_mode": {
    "name": "ipython",
    "version": 3
   },
   "file_extension": ".py",
   "mimetype": "text/x-python",
   "name": "python",
   "nbconvert_exporter": "python",
   "pygments_lexer": "ipython3",
   "version": "3.7.0"
  }
 },
 "nbformat": 4,
 "nbformat_minor": 2
}
